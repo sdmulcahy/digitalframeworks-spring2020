{
 "cells": [
  {
   "cell_type": "markdown",
   "metadata": {},
   "source": [
    "## National Cannabis Industry Association spending\n",
    "\n",
    "I looked at the National Cannabis Industry Association—one of the industry's largest trade groups—to see who it's contributing money to and how much money it's spending."
   ]
  },
  {
   "cell_type": "code",
   "execution_count": 11,
   "metadata": {},
   "outputs": [],
   "source": [
    "import pandas as pd"
   ]
  },
  {
   "cell_type": "code",
   "execution_count": 12,
   "metadata": {},
   "outputs": [],
   "source": [
    "ncia_df = pd.read_csv(\"ncia_fec.csv\")"
   ]
  },
  {
   "cell_type": "markdown",
   "metadata": {},
   "source": [
    "I just wanted to do a quick, top-line analysis, so I saved my data frame to a pivot table in pandas."
   ]
  },
  {
   "cell_type": "code",
   "execution_count": 55,
   "metadata": {},
   "outputs": [],
   "source": [
    "donor_list = ncia_df.pivot_table(index='recipient_name', values='disbursement_amount', aggfunc='sum').sort_values(by='disbursement_amount', ascending=False)"
   ]
  },
  {
   "cell_type": "markdown",
   "metadata": {},
   "source": [
    "Next, I looked at which PACs the NCIA gave the *most* to. In the past, cannabis industry money has mostly gone to Democrats. Is that pattern holding up?"
   ]
  },
  {
   "cell_type": "code",
   "execution_count": 64,
   "metadata": {},
   "outputs": [
    {
     "data": {
      "text/html": [
       "<div>\n",
       "<style scoped>\n",
       "    .dataframe tbody tr th:only-of-type {\n",
       "        vertical-align: middle;\n",
       "    }\n",
       "\n",
       "    .dataframe tbody tr th {\n",
       "        vertical-align: top;\n",
       "    }\n",
       "\n",
       "    .dataframe thead th {\n",
       "        text-align: right;\n",
       "    }\n",
       "</style>\n",
       "<table border=\"1\" class=\"dataframe\">\n",
       "  <thead>\n",
       "    <tr style=\"text-align: right;\">\n",
       "      <th></th>\n",
       "      <th>disbursement_amount</th>\n",
       "    </tr>\n",
       "    <tr>\n",
       "      <th>recipient_name</th>\n",
       "      <th></th>\n",
       "    </tr>\n",
       "  </thead>\n",
       "  <tbody>\n",
       "    <tr>\n",
       "      <th>EDPAC</th>\n",
       "      <td>5000.0</td>\n",
       "    </tr>\n",
       "    <tr>\n",
       "      <th>BLUMENAUER FOR CONGRESS</th>\n",
       "      <td>5000.0</td>\n",
       "    </tr>\n",
       "    <tr>\n",
       "      <th>CHC BOLD PAC</th>\n",
       "      <td>5000.0</td>\n",
       "    </tr>\n",
       "    <tr>\n",
       "      <th>BARBARA LEE FOR CONGRESS</th>\n",
       "      <td>5000.0</td>\n",
       "    </tr>\n",
       "    <tr>\n",
       "      <th>NEW DEMOCRAT COALITION ACTION FUND</th>\n",
       "      <td>5000.0</td>\n",
       "    </tr>\n",
       "    <tr>\n",
       "      <th>MCCONNELL FOR MAJORITY LEADER COMMITTEE</th>\n",
       "      <td>4200.0</td>\n",
       "    </tr>\n",
       "    <tr>\n",
       "      <th>PERLMUTTER FOR CONGRESS</th>\n",
       "      <td>4000.0</td>\n",
       "    </tr>\n",
       "    <tr>\n",
       "      <th>JENA GRISWOLD SENATE EXPLORATORY COMMITTEE</th>\n",
       "      <td>2500.0</td>\n",
       "    </tr>\n",
       "    <tr>\n",
       "      <th>SCANLON FOR CONGRESS</th>\n",
       "      <td>2500.0</td>\n",
       "    </tr>\n",
       "    <tr>\n",
       "      <th>DIANA DEGETTE FOR CONGRESS</th>\n",
       "      <td>2500.0</td>\n",
       "    </tr>\n",
       "    <tr>\n",
       "      <th>SUSIE LEE FOR CONGRESS</th>\n",
       "      <td>2500.0</td>\n",
       "    </tr>\n",
       "    <tr>\n",
       "      <th>KATIE PORTER FOR CONGRESS</th>\n",
       "      <td>2000.0</td>\n",
       "    </tr>\n",
       "    <tr>\n",
       "      <th>CITIZENS FOR BOYLE</th>\n",
       "      <td>2000.0</td>\n",
       "    </tr>\n",
       "    <tr>\n",
       "      <th>JOSH HARDER FOR CONGRESS</th>\n",
       "      <td>2000.0</td>\n",
       "    </tr>\n",
       "    <tr>\n",
       "      <th>PETE AGUILAR FOR CONGRESS</th>\n",
       "      <td>1000.0</td>\n",
       "    </tr>\n",
       "  </tbody>\n",
       "</table>\n",
       "</div>"
      ],
      "text/plain": [
       "                                            disbursement_amount\n",
       "recipient_name                                                 \n",
       "EDPAC                                                    5000.0\n",
       "BLUMENAUER FOR CONGRESS                                  5000.0\n",
       "CHC BOLD PAC                                             5000.0\n",
       "BARBARA LEE FOR CONGRESS                                 5000.0\n",
       "NEW DEMOCRAT COALITION ACTION FUND                       5000.0\n",
       "MCCONNELL FOR MAJORITY LEADER COMMITTEE                  4200.0\n",
       "PERLMUTTER FOR CONGRESS                                  4000.0\n",
       "JENA GRISWOLD SENATE EXPLORATORY COMMITTEE               2500.0\n",
       "SCANLON FOR CONGRESS                                     2500.0\n",
       "DIANA DEGETTE FOR CONGRESS                               2500.0\n",
       "SUSIE LEE FOR CONGRESS                                   2500.0\n",
       "KATIE PORTER FOR CONGRESS                                2000.0\n",
       "CITIZENS FOR BOYLE                                       2000.0\n",
       "JOSH HARDER FOR CONGRESS                                 2000.0\n",
       "PETE AGUILAR FOR CONGRESS                                1000.0"
      ]
     },
     "execution_count": 64,
     "metadata": {},
     "output_type": "execute_result"
    }
   ],
   "source": [
    "donor_list.head(15)"
   ]
  },
  {
   "cell_type": "markdown",
   "metadata": {},
   "source": [
    "It looks like the NCIA is continuing that trajectory. However, a notable recipient at the top: Senate Majority Leader Mitch McConnell.\n",
    "\n",
    "Then, I wanted to see who's at the bottom of the dataset. Maybe NCIA is giving the most to Democrats, but is still giving to Republicans as well."
   ]
  },
  {
   "cell_type": "code",
   "execution_count": 61,
   "metadata": {},
   "outputs": [
    {
     "data": {
      "text/html": [
       "<div>\n",
       "<style scoped>\n",
       "    .dataframe tbody tr th:only-of-type {\n",
       "        vertical-align: middle;\n",
       "    }\n",
       "\n",
       "    .dataframe tbody tr th {\n",
       "        vertical-align: top;\n",
       "    }\n",
       "\n",
       "    .dataframe thead th {\n",
       "        text-align: right;\n",
       "    }\n",
       "</style>\n",
       "<table border=\"1\" class=\"dataframe\">\n",
       "  <thead>\n",
       "    <tr style=\"text-align: right;\">\n",
       "      <th></th>\n",
       "      <th>disbursement_amount</th>\n",
       "    </tr>\n",
       "    <tr>\n",
       "      <th>recipient_name</th>\n",
       "      <th></th>\n",
       "    </tr>\n",
       "  </thead>\n",
       "  <tbody>\n",
       "    <tr>\n",
       "      <th>TED LIEU FOR CONGRESS</th>\n",
       "      <td>1000.0</td>\n",
       "    </tr>\n",
       "    <tr>\n",
       "      <th>KENDRA HORN FOR CONGRESS</th>\n",
       "      <td>1000.0</td>\n",
       "    </tr>\n",
       "    <tr>\n",
       "      <th>AL LAWSON FOR CONGRESS</th>\n",
       "      <td>1000.0</td>\n",
       "    </tr>\n",
       "    <tr>\n",
       "      <th>JOE NEGUSE FOR CONGRESS</th>\n",
       "      <td>1000.0</td>\n",
       "    </tr>\n",
       "    <tr>\n",
       "      <th>JEFFRIES FOR CONGRESS</th>\n",
       "      <td>1000.0</td>\n",
       "    </tr>\n",
       "    <tr>\n",
       "      <th>JAMIE RASKIN FOR CONGRESS</th>\n",
       "      <td>1000.0</td>\n",
       "    </tr>\n",
       "    <tr>\n",
       "      <th>HALEY STEVENS FOR CONGRESS</th>\n",
       "      <td>1000.0</td>\n",
       "    </tr>\n",
       "    <tr>\n",
       "      <th>GALLEGO FOR ARIZONA</th>\n",
       "      <td>1000.0</td>\n",
       "    </tr>\n",
       "    <tr>\n",
       "      <th>FRIENDS OF BEN MCADAMS</th>\n",
       "      <td>1000.0</td>\n",
       "    </tr>\n",
       "    <tr>\n",
       "      <th>DENNY HECK FOR CONGRESS</th>\n",
       "      <td>1000.0</td>\n",
       "    </tr>\n",
       "    <tr>\n",
       "      <th>CISNEROS FOR CONGRESS</th>\n",
       "      <td>1000.0</td>\n",
       "    </tr>\n",
       "    <tr>\n",
       "      <th>TITUS FOR CONGRESS</th>\n",
       "      <td>1000.0</td>\n",
       "    </tr>\n",
       "    <tr>\n",
       "      <th>HAWAII PAC</th>\n",
       "      <td>500.0</td>\n",
       "    </tr>\n",
       "    <tr>\n",
       "      <th>SCHATZ FOR SENATE</th>\n",
       "      <td>500.0</td>\n",
       "    </tr>\n",
       "    <tr>\n",
       "      <th>NATIONAL CANNABIS INDUSTRY ASSOCIATION</th>\n",
       "      <td>200.0</td>\n",
       "    </tr>\n",
       "  </tbody>\n",
       "</table>\n",
       "</div>"
      ],
      "text/plain": [
       "                                        disbursement_amount\n",
       "recipient_name                                             \n",
       "TED LIEU FOR CONGRESS                                1000.0\n",
       "KENDRA HORN FOR CONGRESS                             1000.0\n",
       "AL LAWSON FOR CONGRESS                               1000.0\n",
       "JOE NEGUSE FOR CONGRESS                              1000.0\n",
       "JEFFRIES FOR CONGRESS                                1000.0\n",
       "JAMIE RASKIN FOR CONGRESS                            1000.0\n",
       "HALEY STEVENS FOR CONGRESS                           1000.0\n",
       "GALLEGO FOR ARIZONA                                  1000.0\n",
       "FRIENDS OF BEN MCADAMS                               1000.0\n",
       "DENNY HECK FOR CONGRESS                              1000.0\n",
       "CISNEROS FOR CONGRESS                                1000.0\n",
       "TITUS FOR CONGRESS                                   1000.0\n",
       "HAWAII PAC                                            500.0\n",
       "SCHATZ FOR SENATE                                     500.0\n",
       "NATIONAL CANNABIS INDUSTRY ASSOCIATION                200.0"
      ]
     },
     "execution_count": 61,
     "metadata": {},
     "output_type": "execute_result"
    }
   ],
   "source": [
    "donor_list.tail(15)"
   ]
  },
  {
   "cell_type": "markdown",
   "metadata": {},
   "source": [
    "Seems like it's pretty consistent. NCIA overwhelmingly favored donating to Democrats over Republicans. But how much did the PAC spend in total?"
   ]
  },
  {
   "cell_type": "code",
   "execution_count": 63,
   "metadata": {},
   "outputs": [
    {
     "data": {
      "text/plain": [
       "disbursement_amount    64400.0\n",
       "dtype: float64"
      ]
     },
     "execution_count": 63,
     "metadata": {},
     "output_type": "execute_result"
    }
   ],
   "source": [
    "donor_list.sum()"
   ]
  },
  {
   "cell_type": "markdown",
   "metadata": {},
   "source": [
    "# Findings\n",
    "\n",
    "I found that while there were some notable exceptions, namely Sen. McConnell, the NCIA has given overwhelmingly to Democrats this election cycle. While not suprising, the industry has seen growing support with Republicans, including former House Speaker John Boeher, a Republican, lobbying for one of the largest marijuana companies in the world.\n",
    "\n",
    "Additionally, so far this cycle NCIA has only given $64,400. That's a pretty measely number in terms of campaign finance, especially as cannabis companies try to expand influence on Capitol Hill and pass major reform measures. I'm left wondering if the industry is having a tough time raising money, or is it perhaps focusing its efforts on state campaigns? Maybe lobbying expenses are a better indicator? There's definitely more reporting to be done.\n",
    "\n",
    "**Hed:** Cannabis industry spending favors Democrats. But influential Republicans also took in cash.\n",
    "\n",
    "**Nut graf:** The National Cannabis Industry Association PAC gave overwhelmingly to Democrats this election cycle. But a handful of powerful Republicans also received money from the committee, including Senate Majority Leader Mitch McConnell, as that chamber debates taking up a number of marijuana reform bills."
   ]
  }
 ],
 "metadata": {
  "kernelspec": {
   "display_name": "Python 3",
   "language": "python",
   "name": "python3"
  },
  "language_info": {
   "codemirror_mode": {
    "name": "ipython",
    "version": 3
   },
   "file_extension": ".py",
   "mimetype": "text/x-python",
   "name": "python",
   "nbconvert_exporter": "python",
   "pygments_lexer": "ipython3",
   "version": "3.8.2"
  }
 },
 "nbformat": 4,
 "nbformat_minor": 4
}
